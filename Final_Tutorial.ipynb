{
 "cells": [
  {
   "cell_type": "code",
   "execution_count": 1,
   "metadata": {},
   "outputs": [],
   "source": [
    "import pynbody as pnb\n",
    "import astropy.constants as c\n",
    "import astropy.units as u\n",
    "import numpy as np\n",
    "import h5py\n",
    "import matplotlib.pyplot as plt\n",
    "import os\n",
    "from astropy.table import Table\n",
    "import modules.cosmology as cos\n",
    "import modules.gas_properties as g_p\n",
    "import modules.halo_analysis as h_a\n",
    "import modules.prepare_pyatomdb as ppat"
   ]
  },
  {
   "cell_type": "code",
   "execution_count": 2,
   "metadata": {},
   "outputs": [],
   "source": [
    "shuiyao_dir = '/scratch/rennehan/shuiyao_data/intragroup_props_p50n288'\n",
    "shuiyao_type = ['desph', 'pesph', 'nL1']\n",
    "snap_name='snapshot_108.hdf5'\n",
    "filename = []\n",
    "for i in shuiyao_type:\n",
    "    filename.append(shuiyao_dir + i + '/' + snap_name)"
   ]
  },
  {
   "cell_type": "code",
   "execution_count": 3,
   "metadata": {},
   "outputs": [
    {
     "name": "stderr",
     "output_type": "stream",
     "text": [
      "/scratch/zwshao/anaconda3/lib/python3.7/site-packages/pynbody/snapshot/gadgethdf.py:508: RuntimeWarning: No unit information found!\n",
      "  warnings.warn(\"No unit information found!\", RuntimeWarning)\n",
      "/scratch/zwshao/anaconda3/lib/python3.7/site-packages/pynbody/snapshot/gadgethdf.py:573: RuntimeWarning: No unit information found: using gadget-units.\n",
      "  \"No unit information found: using gadget-units.\", RuntimeWarning)\n"
     ]
    }
   ],
   "source": [
    "num = 2\n",
    "Filename = filename[num]\n",
    "Filetype = shuiyao_type[num]\n",
    "Save_filename = '/shuiyao/' + shuiyao_type[num]\n",
    "s = pnb.load(filename[num])#, paramfile = paramfile)\n",
    "s.physical_units()"
   ]
  },
  {
   "cell_type": "code",
   "execution_count": 4,
   "metadata": {},
   "outputs": [],
   "source": [
    "#s.gas['ElectronAbundance'] = 1.136 #eletron per proton"
   ]
  },
  {
   "cell_type": "markdown",
   "metadata": {},
   "source": [
    "### Prepare some basic quantities required by further calculation."
   ]
  },
  {
   "cell_type": "code",
   "execution_count": 5,
   "metadata": {},
   "outputs": [],
   "source": [
    "# To correct the bug in the units of internal energy in the\n",
    "# temperary version of pynbody, check before you apply.\n",
    "s.gas['u'] /= pnb.array.SimArray(s.properties['a'], units='1')"
   ]
  },
  {
   "cell_type": "code",
   "execution_count": 6,
   "metadata": {},
   "outputs": [],
   "source": [
    "s.gas['X_H'] = 1-s.gas['metals'][:,0]-s.gas['metals'][:,1] # hydrogen mass fraction"
   ]
  },
  {
   "cell_type": "code",
   "execution_count": 7,
   "metadata": {},
   "outputs": [],
   "source": [
    "s.gas['nh'] = g_p.nh(s) # Hydrogen number density"
   ]
  },
  {
   "cell_type": "code",
   "execution_count": 8,
   "metadata": {},
   "outputs": [],
   "source": [
    "s.gas['temp'] = g_p.temp(s) # From internal energy to temperature"
   ]
  },
  {
   "cell_type": "code",
   "execution_count": 9,
   "metadata": {},
   "outputs": [],
   "source": [
    "s.gas['ElectronAbundance'].units = '1'"
   ]
  },
  {
   "cell_type": "code",
   "execution_count": 10,
   "metadata": {},
   "outputs": [],
   "source": [
    "s.gas['ne'] = s.gas['ElectronAbundance'] * s.gas['nh'].in_units('cm**-3') # eletron number density"
   ]
  },
  {
   "cell_type": "code",
   "execution_count": 11,
   "metadata": {},
   "outputs": [],
   "source": [
    "s.gas['volume'] = s.gas['mass']/s.gas['rho'] # volume of gas particles"
   ]
  },
  {
   "cell_type": "code",
   "execution_count": 12,
   "metadata": {},
   "outputs": [],
   "source": [
    "# Choosing hot diffuse gas particles\n",
    "hotdiffusegas = s.gas[pnb.filt.HighPass('temp', '5e5 K')&pnb.filt.LowPass('nh', '0.13 cm**-3')]"
   ]
  },
  {
   "cell_type": "markdown",
   "metadata": {},
   "source": [
    "Mass fraction of the included elements. The first column must be Hydrogen mass fraction."
   ]
  },
  {
   "cell_type": "code",
   "execution_count": 13,
   "metadata": {},
   "outputs": [],
   "source": [
    "s.gas['mass_fraction'] = np.zeros(s.gas['metals'].shape)\n",
    "s.gas['mass_fraction'][:, 0] = s.gas['X_H']\n",
    "s.gas['mass_fraction'][:, 1:] = s.gas['metals'][:, 1:]"
   ]
  },
  {
   "cell_type": "markdown",
   "metadata": {},
   "source": [
    "Abundance relative to solar abundance, don't have to be in gizmo format. See function documentation for details."
   ]
  },
  {
   "cell_type": "code",
   "execution_count": 14,
   "metadata": {},
   "outputs": [
    {
     "name": "stderr",
     "output_type": "stream",
     "text": [
      "/scratch/zwshao/anaconda3/lib/python3.7/site-packages/pynbody/array.py:865: FutureWarning: Using a non-tuple sequence for multidimensional indexing is deprecated; use `arr[tuple(seq)]` instead of `arr[seq]`. In the future this will be interpreted as an array index, `arr[np.array(seq)]`, which will result either in an error or a different result.\n",
      "  return self.base[self._reexpress_index(item)]\n"
     ]
    }
   ],
   "source": [
    "hotdiffusegas['abundance'] = g_p.abundance_to_solar(hotdiffusegas['mass_fraction'])"
   ]
  },
  {
   "cell_type": "markdown",
   "metadata": {},
   "source": [
    "Find proper pytspec calibration file"
   ]
  },
  {
   "cell_type": "code",
   "execution_count": 15,
   "metadata": {},
   "outputs": [],
   "source": [
    "cal_dat_dir = '/scratch/zwshao/Data/tspec_calibration/'\n",
    "cal_dat_files = os.listdir(cal_dat_dir)\n",
    "cal_redshift = []\n",
    "for calfile in cal_dat_files:\n",
    "    cal_redshift += [eval(calfile[10:17])]\n",
    "    \n",
    "calfile_idx = np.abs(np.array(cal_redshift) - s.properties['z']).argmin()\n",
    "cal_file = (cal_dat_dir + cal_dat_files[calfile_idx])"
   ]
  },
  {
   "cell_type": "markdown",
   "metadata": {},
   "source": [
    "### Calculate luminosity"
   ]
  },
  {
   "cell_type": "markdown",
   "metadata": {},
   "source": [
    "Recommend uncomment the following cell for the first time to generate the emissivity files containing all available elements in pyatomdb."
   ]
  },
  {
   "cell_type": "code",
   "execution_count": 16,
   "metadata": {
    "scrolled": true
   },
   "outputs": [],
   "source": [
    "# e_band = [0.5, 2.0]\n",
    "# e_filename = '/scratch/zwshao/Data/{:.1f}-{:.1f}keV_emissivity_all_elements.hdf5'.format(e_band[0], e_band[1])\n",
    "# ppat.load_emissivity_file(filename=e_filename, energy_band=e_band)"
   ]
  },
  {
   "cell_type": "code",
   "execution_count": 17,
   "metadata": {},
   "outputs": [],
   "source": [
    "narrow_band_file = '/scratch/zwshao/Data/0.5-2.0keV_emissivity_all_elements.hdf5'\n",
    "broad_band_file =  '/scratch/zwshao/Data/0.1-2.4keV_emissivity_all_elements.hdf5'"
   ]
  },
  {
   "cell_type": "markdown",
   "metadata": {},
   "source": [
    "'b' for broad band (0.1-2.4 keV)"
   ]
  },
  {
   "cell_type": "code",
   "execution_count": 18,
   "metadata": {},
   "outputs": [],
   "source": [
    "Emission_type = ['Lx', 'Lxb', 'Lx_cont', 'Lxb_cont']\n",
    "for i in Emission_type:\n",
    "    s.gas[i] = 0\n",
    "    s.gas[i].units = 'erg s**-1'"
   ]
  },
  {
   "cell_type": "code",
   "execution_count": 19,
   "metadata": {
    "scrolled": true
   },
   "outputs": [],
   "source": [
    "hotdiffusegas['Lx'] = g_p.calcu_luminosity(gas=hotdiffusegas, filename=narrow_band_file, \\\n",
    "                                           mode='total', band=[0.5, 2.0])\n",
    "hotdiffusegas['Lxb'] = g_p.calcu_luminosity(gas=hotdiffusegas, \\\n",
    "                            filename=broad_band_file, mode='total', band=[0.1, 2.4])"
   ]
  },
  {
   "cell_type": "code",
   "execution_count": 20,
   "metadata": {},
   "outputs": [],
   "source": [
    "hotdiffusegas['Lx_cont'] = g_p.calcu_luminosity(gas=hotdiffusegas, filename=narrow_band_file, \\\n",
    "                                                mode='cont', band=[0.5, 2.0])\n",
    "hotdiffusegas['Lxb_cont'] = g_p.calcu_luminosity(gas=hotdiffusegas, \\\n",
    "                                    filename=broad_band_file, mode='cont', band=[0.1, 2.4])"
   ]
  },
  {
   "cell_type": "markdown",
   "metadata": {},
   "source": [
    "## Halo Analysis"
   ]
  },
  {
   "cell_type": "code",
   "execution_count": 21,
   "metadata": {},
   "outputs": [
    {
     "name": "stderr",
     "output_type": "stream",
     "text": [
      "/scratch/zwshao/anaconda3/lib/python3.7/site-packages/pynbody/halo/ahf.py:149: UserWarning: Unable to write AHF_fpos file; performance will be reduced. Pass write_fpos=False to halo constructor to suppress this message.\n",
      "  warnings.warn(\"Unable to write AHF_fpos file; performance will be reduced. Pass write_fpos=False to halo constructor to suppress this message.\")\n"
     ]
    }
   ],
   "source": [
    "h = s.halos()"
   ]
  },
  {
   "cell_type": "code",
   "execution_count": 22,
   "metadata": {},
   "outputs": [],
   "source": [
    "del s.gas['mass_fraction'], s.gas['abundance']"
   ]
  },
  {
   "cell_type": "code",
   "execution_count": 23,
   "metadata": {},
   "outputs": [
    {
     "name": "stdout",
     "output_type": "stream",
     "text": [
      "Loading properties...   11605 / 11605\r"
     ]
    }
   ],
   "source": [
    "halo = h_a.halo_props(h, datatype='gizmo_ahf')"
   ]
  },
  {
   "cell_type": "code",
   "execution_count": 24,
   "metadata": {},
   "outputs": [],
   "source": [
    "galaxy_low_limit = 64 * s.star['mass'].mean()"
   ]
  },
  {
   "cell_type": "code",
   "execution_count": 25,
   "metadata": {
    "scrolled": true
   },
   "outputs": [
    {
     "name": "stdout",
     "output_type": "stream",
     "text": [
      "Identifying galaxies... Halo:   11605 / 116051605 / 11605\r"
     ]
    }
   ],
   "source": [
    "halo.init_relationship(galaxy_low_limit=galaxy_low_limit)"
   ]
  },
  {
   "cell_type": "markdown",
   "metadata": {},
   "source": [
    "To check if there is any unusual halo_ids and host_ids. For ahf results of Liang's data, there are some halos whose  \"hostHalo\" ID is not recorded in \"#ID\". I choose to ignore these halos."
   ]
  },
  {
   "cell_type": "code",
   "execution_count": 26,
   "metadata": {},
   "outputs": [
    {
     "data": {
      "text/plain": [
       "[{}, {}, {}]"
      ]
     },
     "execution_count": 26,
     "metadata": {},
     "output_type": "execute_result"
    }
   ],
   "source": [
    "halo.errorlist"
   ]
  },
  {
   "cell_type": "code",
   "execution_count": 27,
   "metadata": {
    "scrolled": true
   },
   "outputs": [
    {
     "name": "stdout",
     "output_type": "stream",
     "text": [
      "Calculating radii and masses...   11605 / 11605, time:                         0.04169s\r"
     ]
    }
   ],
   "source": [
    "halo.calcu_radii_masses(halo_id_list=halo.host_list)"
   ]
  },
  {
   "cell_type": "code",
   "execution_count": 28,
   "metadata": {
    "scrolled": true
   },
   "outputs": [
    {
     "name": "stdout",
     "output_type": "stream",
     "text": [
      "Calculating specific masses...   11605 / 11605\r"
     ]
    }
   ],
   "source": [
    "halo.calcu_specific_masses(halo_id_list=halo.host_list)"
   ]
  },
  {
   "cell_type": "code",
   "execution_count": 29,
   "metadata": {},
   "outputs": [
    {
     "name": "stdout",
     "output_type": "stream",
     "text": [
      "Calculating temperatures and luminosities...   11605 / 11605\r"
     ]
    }
   ],
   "source": [
    "halo.calcu_temp_lumi(cal_file=cal_file, halo_id_list=halo.host_list)"
   ]
  },
  {
   "cell_type": "code",
   "execution_count": 30,
   "metadata": {},
   "outputs": [
    {
     "name": "stdout",
     "output_type": "stream",
     "text": [
      "Calculating temperatures and luminosities...      80 / 11605\r"
     ]
    },
    {
     "name": "stderr",
     "output_type": "stream",
     "text": [
      "/scratch/zwshao/anaconda3/lib/python3.7/site-packages/pynbody/array.py:346: RuntimeWarning: invalid value encountered in true_divide\n",
      "  return np.ndarray.__truediv__(self, rhs)\n"
     ]
    },
    {
     "name": "stdout",
     "output_type": "stream",
     "text": [
      "Calculating temperatures and luminosities...   11605 / 11605\r"
     ]
    }
   ],
   "source": [
    "halo.calcu_entropy(cal_file=cal_file, halo_id_list=halo.host_list)"
   ]
  },
  {
   "cell_type": "code",
   "execution_count": 31,
   "metadata": {},
   "outputs": [],
   "source": [
    "halo.savedata('/scratch/zwshao/Results/' + Save_filename + '_halo_infos_new_catalogue.hdf5', halo_id_list=halo.host_list)"
   ]
  },
  {
   "cell_type": "code",
   "execution_count": 32,
   "metadata": {},
   "outputs": [],
   "source": [
    "radius_field = ['vir', '200', '500', '2500']\n",
    "masstype = ['star', 'gas', 'bar', 'ism', 'cold', 'igrm'] # used in Figure 8 of Liang et al.\n",
    "radii_to_cal_sepcific_mass = ['200', '500']\n",
    "specific_mass_field = []\n",
    "for ra in radii_to_cal_sepcific_mass:\n",
    "    specific_mass_field += [_masstype + ra for _masstype in masstype]\n",
    "mass_field = radius_field + specific_mass_field + ['total_star', 'self_star']\n",
    "temp_field = ['x', 'x_cont', 'mass', 'spec', 'spec_corr', \\\n",
    "                'x_corr', 'x_corr_cont', 'mass_corr']\n",
    "entropy_field = ['500', '2500']\n",
    "luminosity_field = ['x', 'x_cont', 'xb', 'xb_cont']\n",
    "# _cont for only considering continuum emission, _corr for core-corrected (0.15*R500-R500)\n",
    "# xb for broad band X-ray (0.1-2.4 keV) in our case.\n",
    "\n",
    "default_field = {'R': radius_field, 'M': mass_field, 'T': temp_field, 'S': entropy_field, 'L': luminosity_field}\n",
    "default_units = {'T': 'keV', 'L': 'erg s**-1', 'R': 'kpc', 'M': 'Msol', 'S': 'keV cm**2'}"
   ]
  },
  {
   "cell_type": "markdown",
   "metadata": {},
   "source": [
    "## Plots\n",
    "\n",
    "I only attach Fig. 2 here for it requires galaxies information which is not included in the saved data files and thus we have to run halo.init_relationship() each time. The other plots can be easily plotted using saved hdf5 files."
   ]
  },
  {
   "cell_type": "code",
   "execution_count": 33,
   "metadata": {},
   "outputs": [],
   "source": [
    "E_z = cos.Ez(s)"
   ]
  },
  {
   "cell_type": "code",
   "execution_count": 34,
   "metadata": {},
   "outputs": [],
   "source": [
    "low_mass_group = set()\n",
    "mid_mass_group = set()\n",
    "high_mass_group = set()\n",
    "low_group_gal = set() # Devided the galaxies by its host group mass\n",
    "mid_group_gal = set()\n",
    "high_group_gal = set()\n",
    "for g in halo.group_list:\n",
    "    if 12.5 < np.log10(halo.prop['M']['vir'][g - 1]*E_z) <= 13.0:\n",
    "        low_group_gal = low_group_gal | halo.galaxies[g-1]\n",
    "        low_mass_group.add(g)\n",
    "    if 13.0 < np.log10(halo.prop['M']['vir'][g - 1]*E_z) <= 13.2:\n",
    "        mid_group_gal = mid_group_gal | halo.galaxies[g-1]\n",
    "        mid_mass_group.add(g)\n",
    "    if 13.2 < np.log10(halo.prop['M']['vir'][g - 1]*E_z) <= 14.0:\n",
    "        high_group_gal = high_group_gal | halo.galaxies[g-1]\n",
    "        high_mass_group.add(g)\n",
    "        \n",
    "low_mass_group = np.array(list(low_mass_group))\n",
    "mid_mass_group = np.array(list(mid_mass_group))\n",
    "high_mass_group = np.array(list(high_mass_group))\n",
    "low_group_gal = np.array(list(low_group_gal))\n",
    "mid_group_gal = np.array(list(mid_group_gal))\n",
    "high_group_gal = np.array(list(high_group_gal))"
   ]
  },
  {
   "cell_type": "code",
   "execution_count": 35,
   "metadata": {},
   "outputs": [
    {
     "name": "stderr",
     "output_type": "stream",
     "text": [
      "/scratch/zwshao/anaconda3/lib/python3.7/site-packages/ipykernel_launcher.py:1: RuntimeWarning: divide by zero encountered in log10\n",
      "  \"\"\"Entry point for launching an IPython kernel.\n"
     ]
    }
   ],
   "source": [
    "low_group_gal_logmass = np.log10(halo.prop['M']['self_star'][low_group_gal - 1]*E_z)\n",
    "mid_group_gal_logmass = np.log10(halo.prop['M']['self_star'][mid_group_gal - 1]*E_z)\n",
    "high_group_gal_logmass = np.log10(halo.prop['M']['self_star'][high_group_gal - 1]*E_z)\n",
    "# Sum over each group comoving volume within r200 in each mass bin\n",
    "low_volume = 4*np.pi/3*((halo.prop['R']['200'][low_mass_group - 1]/s.properties['a'])**3).sum().in_units('Mpc**3')\n",
    "mid_volume = 4*np.pi/3*((halo.prop['R']['200'][mid_mass_group - 1]/s.properties['a'])**3).sum().in_units('Mpc**3')\n",
    "high_volume = 4*np.pi/3*((halo.prop['R']['200'][high_mass_group - 1]/s.properties['a'])**3).sum().in_units('Mpc**3')"
   ]
  },
  {
   "cell_type": "code",
   "execution_count": 36,
   "metadata": {},
   "outputs": [
    {
     "data": {
      "image/png": "[encoded data removed]",
      "text/plain": [
       "<Figure size 432x432 with 1 Axes>"
      ]
     },
     "metadata": {
      "needs_background": "light"
     },
     "output_type": "display_data"
    }
   ],
   "source": [
    "plt.figure(figsize=(6,6))\n",
    "logbins = np.arange(9, 13.2, 0.2)\n",
    "bin_width = logbins[1:]-logbins[:-1]\n",
    "middle = logbins[1:]# + logbins[:-1])/2\n",
    "\n",
    "hist3 = np.histogram(high_group_gal_logmass, bins=logbins)[0]/(high_volume*bin_width)\n",
    "hist3forplt = np.append(hist3[0], hist3)\n",
    "plt.plot(logbins, hist3forplt, drawstyle='steps', label=r'$13.2<\\log$ $M_{vir}E(z)\\leq 14.0$', color='r', linewidth=2.5)\n",
    "\n",
    "hist2 = np.histogram(mid_group_gal_logmass, bins=logbins)[0]/(mid_volume*bin_width)\n",
    "hist2forplt = np.append(hist2[0], hist2)\n",
    "plt.plot(logbins, hist2forplt, drawstyle='steps', label=r'$13.0<\\log$ $M_{vir}E(z)\\leq 13.2$', color='b', linewidth=2.5)\n",
    "\n",
    "hist1 = np.histogram(low_group_gal_logmass, bins=logbins)[0]/(low_volume*bin_width)\n",
    "hist1forplt = np.append(hist1[0], hist1)\n",
    "plt.plot(logbins, hist1forplt, drawstyle='steps', label=r'$12.5<\\log$ $M_{vir}E(z)\\leq 13.0$', color='m', linewidth=2.5)\n",
    "\n",
    "# hist = np.histogram(galaxy_logM['star'], bins=logbins)[0]\n",
    "# plt.plot(middle, hist/(vol2*bin_width))\n",
    "plt.legend()\n",
    "plt.yscale('log')\n",
    "plt.xlim([9, 13])\n",
    "plt.ylim([1e-2, 1e2])\n",
    "plt.xlabel(r'$\\log M_{star}E(z)$ $(M_\\odot)$')\n",
    "plt.ylabel(r'$dn/d\\log$ $M_{star}E(z)$ $Mpc^{-3}$')\n",
    "plt.title('p50n288' + shuiyao_type[num] + ' GSMF (Figure 2)')\n",
    "plt.vlines(np.log10(galaxy_low_limit), 1e-2, 1e2, color='k', linestyle='dashed')\n",
    "plt.grid()\n",
    "#plt.savefig('/scratch/zwshao/Results/' + Save_filename + 'Figure2.pdf')\n",
    "plt.show()\n",
    "plt.close()"
   ]
  },
  {
   "cell_type": "code",
   "execution_count": null,
   "metadata": {},
   "outputs": [],
   "source": []
  }
 ],
 "metadata": {
  "kernelspec": {
   "display_name": "Python 3",
   "language": "python",
   "name": "python3"
  },
  "language_info": {
   "codemirror_mode": {
    "name": "ipython",
    "version": 3
   },
   "file_extension": ".py",
   "mimetype": "text/x-python",
   "name": "python",
   "nbconvert_exporter": "python",
   "pygments_lexer": "ipython3",
   "version": "3.7.3"
  }
 },
 "nbformat": 4,
 "nbformat_minor": 2
}
